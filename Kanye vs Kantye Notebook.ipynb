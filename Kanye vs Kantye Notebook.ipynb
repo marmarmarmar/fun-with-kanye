{
 "cells": [
  {
   "cell_type": "markdown",
   "metadata": {},
   "source": [
    "# Kanye vs Kantye\n",
    "\n",
    "\n",
    "In this notebook I will train mulitple classifiers for discrimination between Kanye West and Kantye West - a Twitter profile which is mocking Kanye's one by twitting philosophically inspired twitts. Let's start from training data:"
   ]
  },
  {
   "cell_type": "code",
   "execution_count": 1,
   "metadata": {},
   "outputs": [],
   "source": [
    "import json\n",
    "\n",
    "\n",
    "with open('kanyewest.json', 'r') as json_handle:\n",
    "    kw_json = json.load(json_handle)\n",
    "    \n",
    "with open('kantye_west.json', 'r') as json_handle:\n",
    "    ktw_json = json.load(json_handle)"
   ]
  },
  {
   "cell_type": "markdown",
   "metadata": {},
   "source": [
    "Now we will perform a _train-test-valid_ split. Our experiments setup will be the following:\n",
    "1. We will perform cross-validation grid search of multiple kinds of models.\n",
    "2. We will choose the best one on a validation set.\n",
    "3. We will perform the final evaluation on a test set.\n",
    "\n",
    "I decided to choose `accuracy` as a main evaluation metric as the dataset is fairly balanced. I decided to use `0` label for Kanye West and `1` label for Kantye.\n",
    "\n",
    "Below I implemented a class for datasets experiment:"
   ]
  },
  {
   "cell_type": "code",
   "execution_count": 2,
   "metadata": {},
   "outputs": [
    {
     "name": "stderr",
     "output_type": "stream",
     "text": [
      "/usr/local/lib/python3.6/site-packages/sklearn/model_selection/_split.py:2179: FutureWarning: From version 0.21, test_size will always complement train_size unless both are specified.\n",
      "  FutureWarning)\n"
     ]
    }
   ],
   "source": [
    "import cached_property\n",
    "from sklearn import model_selection\n",
    "\n",
    "\n",
    "RANDOM_SEED = 42\n",
    "TRAIN_PERCENTAGE = 0.6\n",
    "TEST_PERCENTAGE = 0.2\n",
    "VALID_PERCENTAGE = 0.2\n",
    "\n",
    "\n",
    "full_jsons = kw_json + ktw_json\n",
    "full_labels = [0] * len(kw_json) + [1] * len(ktw_json)\n",
    "\n",
    "full_jsons = full_jsons\n",
    "full_labels = full_labels\n",
    "\n",
    "\n",
    "class Dataset:\n",
    "    \n",
    "    def __init__(\n",
    "        self,\n",
    "        train_jsons,\n",
    "        train_labels,\n",
    "        test_jsons,\n",
    "        test_labels,\n",
    "        valid_jsons,\n",
    "        valid_labels,\n",
    "    ):\n",
    "        self.train_jsons = train_jsons\n",
    "        self.train_labels = train_labels\n",
    "        self.test_jsons = test_jsons\n",
    "        self.test_labels = test_labels\n",
    "        self.valid_jsons = valid_jsons\n",
    "        self.valid_labels = valid_labels\n",
    "    \n",
    "    @staticmethod\n",
    "    def get_texts_from_json(json_):\n",
    "        return [twitt_json['text'] for twitt_json in json_]\n",
    "        \n",
    "    @cached_property.cached_property\n",
    "    def train_texts(self):\n",
    "        return self.get_texts_from_json(self.train_jsons)\n",
    "    \n",
    "    @cached_property.cached_property\n",
    "    def test_texts(self):\n",
    "        return self.get_texts_from_json(self.test_jsons)\n",
    "    \n",
    "    @cached_property.cached_property\n",
    "    def valid_texts(self):\n",
    "        return self.get_texts_from_json(self.valid_jsons)\n",
    "        \n",
    "    @classmethod\n",
    "    def from_jsons_and_labels(\n",
    "        cls,\n",
    "        jsons,\n",
    "        labels,\n",
    "        train_percentage=TRAIN_PERCENTAGE,\n",
    "        test_percentage=TEST_PERCENTAGE, \n",
    "        valid_percentage=VALID_PERCENTAGE,\n",
    "    ):\n",
    "        train_jsons, rest_jsons, train_labels, rest_labels = model_selection.train_test_split(\n",
    "            jsons, labels,\n",
    "            train_size=TRAIN_PERCENTAGE,\n",
    "            random_state=RANDOM_SEED,\n",
    "        )\n",
    "        test_jsons, valid_jsons, test_labels, valid_labels = model_selection.train_test_split(\n",
    "            jsons, labels,\n",
    "            train_size=TEST_PERCENTAGE / (TEST_PERCENTAGE + VALID_PERCENTAGE),\n",
    "            random_state=RANDOM_SEED,\n",
    "        )\n",
    "        return cls(\n",
    "            train_jsons=train_jsons,\n",
    "            train_labels=train_labels,\n",
    "            test_jsons=test_jsons,\n",
    "            test_labels=test_labels,\n",
    "            valid_jsons=valid_jsons,\n",
    "            valid_labels=valid_labels,\n",
    "        )\n",
    "    \n",
    "\n",
    "dataset = Dataset.from_jsons_and_labels(\n",
    "    jsons=full_jsons,\n",
    "    labels=full_labels,\n",
    ")"
   ]
  },
  {
   "cell_type": "markdown",
   "metadata": {},
   "source": [
    "Let's prepare preprocessing pipeline. During the data look up performed on a train set I noticed the following style characteristics which might be useful to our models:\n",
    "\n",
    "- Kanye often use a single word tweets. This is not the case for Kantye who writes more sophisticated twitts,\n",
    "- Kanye often posts links to other websites,\n",
    "- Mentions might be useful,\n",
    "- As Kantye mocks Kanye using Kant references - a rare words connected to Immanuel Kant might be useful,\n",
    "- I am not removing the punctuation - as it turned out that it has discriminative power for this task.\n",
    "\n",
    "I added extraction of features based on these observations to a `Preprocessor`:"
   ]
  },
  {
   "cell_type": "code",
   "execution_count": 3,
   "metadata": {},
   "outputs": [],
   "source": [
    "from sklearn import base\n",
    "\n",
    "\n",
    "class TwitterPreprocessor(base.BaseEstimator, base.TransformerMixin):\n",
    "    \n",
    "    KANT_STEMS = ['königsberg', 'deontolog', ]\n",
    "    \n",
    "    SINGLE_WORD_TOKEN = 'single_word_token'\n",
    "    URL_TOKEN = 'url_token'\n",
    "    KANT_TOKEN = 'kant_token'\n",
    "    MENTION_TOKEN = 'mention_token'\n",
    "    \n",
    "    def __init__(\n",
    "        self,\n",
    "        check_if_only_single_word=True,\n",
    "        replace_urls=True,\n",
    "        replace_mentions=True,\n",
    "        specific_stems=None,\n",
    "    ):\n",
    "        self.check_if_only_single_word = check_if_only_single_word\n",
    "        self.replace_urls = replace_urls\n",
    "        self.replace_mentions = replace_mentions\n",
    "        self.specific_stems = specific_stems \n",
    "    \n",
    "    def fit(self, X, y=None):\n",
    "        return self\n",
    "    \n",
    "    def transform_single_text(self, text):\n",
    "        text = text.replace('\\n', ' ') # Sometimes there is \\n instead of spaces\n",
    "        if self.check_if_only_single_word:\n",
    "            if self.check_if_single_word_in_text(text):\n",
    "                text = ' '.join([self.SINGLE_WORD_TOKEN, text])\n",
    "        if self.replace_urls:\n",
    "            text = self.replace_urls_in_text(text)\n",
    "        if self.replace_mentions:\n",
    "            text = self.replace_mentions_in_text(text)\n",
    "        text = self.replace_specific_stems_in_text(text)\n",
    "        return text.lower()\n",
    "    \n",
    "    def transform(self, X):\n",
    "        return [\n",
    "            self.transform_single_text(text) \n",
    "            for text in X\n",
    "        ]\n",
    "            \n",
    "    @staticmethod\n",
    "    def check_if_single_word_in_text(text):\n",
    "        return len(text.split()) == 1\n",
    "            \n",
    "    @classmethod\n",
    "    def replace_urls_in_text(cls, text):\n",
    "        return ' '.join([\n",
    "                cls.URL_TOKEN if cls.check_if_word_is_url(word) else word\n",
    "                for word in text.split()\n",
    "            ])\n",
    "    \n",
    "    @staticmethod \n",
    "    def check_if_word_is_url(word):\n",
    "        return word.startswith('http')\n",
    "    \n",
    "    @classmethod\n",
    "    def replace_mentions_in_text(cls, text):\n",
    "        return ' '.join([\n",
    "                cls.MENTION_TOKEN if word.startswith('@') else word\n",
    "                for word in text.split()\n",
    "            ])\n",
    "    \n",
    "    def replace_specific_stems_in_text(self, text):\n",
    "        return ' '.join([\n",
    "                self.KANT_TOKEN if self.is_kant_specific_word(word) else word\n",
    "                for word in text.split()\n",
    "            ])\n",
    "    \n",
    "    def is_kant_specific_word(self, word):\n",
    "        for stem in self.get_specific_stems():\n",
    "            if stem in word:\n",
    "                return True\n",
    "        else:\n",
    "            return False\n",
    "        \n",
    "    def get_specific_stems(self):\n",
    "        if self.specific_stems is not None:\n",
    "            return self.specific_stems\n",
    "        return self.KANT_STEMS\n",
    "\n",
    "        \n",
    "default_preprocessor_parameters = {\n",
    "    'preprocessor__check_if_only_single_word': [True, False],\n",
    "    'preprocessor__replace_urls': [True, False],\n",
    "    'preprocessor__replace_mentions': [True, False],\n",
    "    'preprocessor__specific_stems': [None, []],\n",
    "}"
   ]
  },
  {
   "cell_type": "markdown",
   "metadata": {},
   "source": [
    "and specific tokenizer. Additional thing is that by using [`WordNet`](https://wordnet.princeton.edu/) API I am checking if a given token refers to a Philosopher."
   ]
  },
  {
   "cell_type": "code",
   "execution_count": 4,
   "metadata": {},
   "outputs": [],
   "source": [
    "import nltk\n",
    "from nltk.corpus import wordnet as wn\n",
    "from nltk import stem\n",
    "from sklearn.feature_extraction import stop_words as sksw\n",
    "\n",
    "\n",
    "class TwitterTokenizer:\n",
    "    \n",
    "    PHILOSOPHER_TOKEN = 'philo_token'\n",
    "    \n",
    "    def __init__(\n",
    "        self,\n",
    "        lemmatizer=None,\n",
    "        stemmer=None,\n",
    "        tokenizer=None,\n",
    "        stop_words=None,\n",
    "    ):\n",
    "        self.lemmatizer = lemmatizer if lemmatizer else stem.WordNetLemmatizer()\n",
    "        self.stemmer = stemmer if stemmer else stem.snowball.EnglishStemmer()\n",
    "        self.tokenizer = tokenizer if tokenizer else nltk.word_tokenize\n",
    "        self.stop_words = stop_words if stop_words else sksw.ENGLISH_STOP_WORDS\n",
    "    \n",
    "    def __call__(self, articles):\n",
    "        tokens = [\n",
    "            self.lemmatizer.lemmatize(token)\n",
    "            for token in self.tokenizer(articles)\n",
    "        ]\n",
    "        tokens = [\n",
    "            self.PHILOSOPHER_TOKEN if self._is_philosopher_token(token) else token\n",
    "            for token in tokens\n",
    "        ]\n",
    "        tokens = [\n",
    "            token\n",
    "            for token in tokens\n",
    "            if token not in self.stop_words\n",
    "        ]\n",
    "        return [self.stemmer.stem(token) for token in tokens]\n",
    "    \n",
    "    def _is_philosopher_token(self, token):\n",
    "        synsets = wn.synsets(token)\n",
    "        scores = [\n",
    "            self.get_synset_philosopher_similarity(synset) \n",
    "            for synset in synsets\n",
    "        ]\n",
    "        if len(scores) > 0:\n",
    "            return max(scores) > 0.2\n",
    "        else:\n",
    "            return False\n",
    "        \n",
    "    def get_synset_philosopher_similarity(self, synset):\n",
    "        score = synset.path_similarity(wn.synsets('philosopher')[0])\n",
    "        if score is None:\n",
    "            return 0\n",
    "        else:\n",
    "            return score"
   ]
  },
  {
   "cell_type": "markdown",
   "metadata": {},
   "source": [
    "Now - we can build first pipeline - baseline which uses Naive Bayes model:"
   ]
  },
  {
   "cell_type": "code",
   "execution_count": 5,
   "metadata": {},
   "outputs": [],
   "source": [
    "from sklearn import pipeline\n",
    "from sklearn.feature_extraction import text as sktext\n",
    "from sklearn import naive_bayes\n",
    "\n",
    "nb_pipeline = pipeline.Pipeline(\n",
    "    steps=(\n",
    "        ('preprocessor', TwitterPreprocessor()),\n",
    "        ('vectorizer', sktext.CountVectorizer(\n",
    "                tokenizer=TwitterTokenizer(),\n",
    "            )\n",
    "        ),\n",
    "        ('nb_model', naive_bayes.BernoulliNB())\n",
    "    )\n",
    ")\n",
    "\n",
    "nb_parameters = {\n",
    "    'nb_model__alpha': [0.1, 1, 10],\n",
    "    **default_preprocessor_parameters,\n",
    "}"
   ]
  },
  {
   "cell_type": "markdown",
   "metadata": {},
   "source": [
    "Now - let's fit the first pipeline:"
   ]
  },
  {
   "cell_type": "code",
   "execution_count": 6,
   "metadata": {},
   "outputs": [
    {
     "name": "stdout",
     "output_type": "stream",
     "text": [
      "[nltk_data] Downloading package punkt to /root/nltk_data...\n",
      "[nltk_data]   Package punkt is already up-to-date!\n",
      "[nltk_data] Downloading package wordnet to /root/nltk_data...\n",
      "[nltk_data]   Unzipping corpora/wordnet.zip.\n"
     ]
    },
    {
     "data": {
      "text/plain": [
       "GridSearchCV(cv=5, error_score='raise-deprecating',\n",
       "       estimator=Pipeline(memory=None,\n",
       "     steps=(('preprocessor', TwitterPreprocessor(check_if_only_single_word=True, replace_mentions=True,\n",
       "          replace_urls=True, specific_stems=None)), ('vectorizer', CountVectorizer(analyzer='word', binary=False, decode_error='strict',\n",
       "        dtype=<class 'numpy.int64'>, encoding='utf-8', input='co...bulary=None)), ('nb_model', BernoulliNB(alpha=1.0, binarize=0.0, class_prior=None, fit_prior=True)))),\n",
       "       fit_params=None, iid='warn', n_jobs=None,\n",
       "       param_grid={'nb_model__alpha': [0.1, 1, 10], 'preprocessor__check_if_only_single_word': [True, False], 'preprocessor__replace_urls': [True, False], 'preprocessor__replace_mentions': [True, False], 'preprocessor__specific_stems': [None, []]},\n",
       "       pre_dispatch='2*n_jobs', refit=True, return_train_score='warn',\n",
       "       scoring='accuracy', verbose=0)"
      ]
     },
     "execution_count": 6,
     "metadata": {},
     "output_type": "execute_result"
    }
   ],
   "source": [
    "from sklearn import model_selection\n",
    "\n",
    "\n",
    "nltk.download('punkt')\n",
    "nltk.download('wordnet')\n",
    "\n",
    "\n",
    "NB_OF_FOLDS = 5\n",
    "\n",
    "nb_cv = model_selection.GridSearchCV(\n",
    "    nb_pipeline, \n",
    "    nb_parameters, \n",
    "    scoring='accuracy',\n",
    "    cv=NB_OF_FOLDS,\n",
    ")\n",
    "nb_cv.fit(dataset.train_texts, dataset.train_labels)   "
   ]
  },
  {
   "cell_type": "markdown",
   "metadata": {},
   "source": [
    "Now - let us prepare a function for model evaluation:"
   ]
  },
  {
   "cell_type": "code",
   "execution_count": 7,
   "metadata": {},
   "outputs": [
    {
     "name": "stdout",
     "output_type": "stream",
     "text": [
      "Train:\n",
      "Accuracy is 0.988942\n",
      "Precision is 0.977199\n",
      "Recall is 1.000000\n"
     ]
    },
    {
     "data": {
      "image/png": "[encoded data removed]",
      "text/plain": [
       "<Figure size 432x288 with 1 Axes>"
      ]
     },
     "metadata": {
      "needs_background": "light"
     },
     "output_type": "display_data"
    },
    {
     "data": {
      "image/png": "[encoded data removed]",
      "text/plain": [
       "<Figure size 432x288 with 1 Axes>"
      ]
     },
     "metadata": {
      "needs_background": "light"
     },
     "output_type": "display_data"
    },
    {
     "name": "stdout",
     "output_type": "stream",
     "text": [
      "Valid:\n",
      "Accuracy is 0.924242\n",
      "Precision is 0.901345\n",
      "Recall is 0.917808\n"
     ]
    },
    {
     "data": {
      "image/png": "[encoded data removed]",
      "text/plain": [
       "<Figure size 432x288 with 1 Axes>"
      ]
     },
     "metadata": {
      "needs_background": "light"
     },
     "output_type": "display_data"
    },
    {
     "data": {
      "image/png": "[encoded data removed]",
      "text/plain": [
       "<Figure size 432x288 with 1 Axes>"
      ]
     },
     "metadata": {
      "needs_background": "light"
     },
     "output_type": "display_data"
    }
   ],
   "source": [
    "from sklearn import metrics\n",
    "from matplotlib import pyplot as plt\n",
    "\n",
    "%matplotlib inline\n",
    "\n",
    "class ModelResults:\n",
    "    \n",
    "    def __init__(\n",
    "        self,\n",
    "        accuracy,\n",
    "        precision,\n",
    "        recall,\n",
    "        auc=None,\n",
    "        avp=None,\n",
    "    ):\n",
    "        self.accuracy = accuracy\n",
    "        self.precision = precision\n",
    "        self.recall = recall\n",
    "        self.auc = auc\n",
    "        self.avp = avp\n",
    "\n",
    "\n",
    "def plot_roc_curve(labels, scores):\n",
    "    tpr, fpr, _ = metrics.roc_curve(labels, scores)\n",
    "    plt.plot(tpr, fpr)\n",
    "    plt.xlabel('TPR')\n",
    "    plt.ylabel('FPR')\n",
    "    plt.plot([0, 1], [0, 1])\n",
    "    auc = metrics.roc_auc_score(labels, scores)\n",
    "    plt.title('ROC AUC SCORE:\\n %f' % (auc))\n",
    "    plt.show()\n",
    "    return auc\n",
    "\n",
    "\n",
    "def plot_prec_recall_curve(labels, scores):\n",
    "    prec, recall, _ = metrics.precision_recall_curve(labels, scores)\n",
    "    plt.plot(recall, prec)\n",
    "    plt.xlabel('Recall')\n",
    "    plt.ylabel('Precision')\n",
    "    avp = metrics.average_precision_score(labels, scores)\n",
    "    plt.title('AVP SCORE:\\n %f' % (avp))\n",
    "    plt.show()\n",
    "    return avp\n",
    "\n",
    "\n",
    "def evaluate_model(model, texts, labels, plot_auc_avp=True):\n",
    "    predictions = model.predict(texts)\n",
    "    \n",
    "    accuracy = metrics.accuracy_score(predictions, labels)\n",
    "    precision = metrics.precision_score(predictions, labels)\n",
    "    recall = metrics.recall_score(predictions, labels)\n",
    "    \n",
    "    print('Accuracy is %f' % accuracy)\n",
    "    print('Precision is %f' % precision)\n",
    "    print('Recall is %f' % recall)\n",
    "    \n",
    "    model_results = ModelResults(\n",
    "        accuracy=accuracy,\n",
    "        precision=precision,\n",
    "        recall=recall,\n",
    "    )\n",
    "    \n",
    "    if plot_auc_avp:\n",
    "        scores = model.predict_log_proba(texts)[: ,1]\n",
    "    \n",
    "        auc = plot_roc_curve(\n",
    "            labels=labels,\n",
    "            scores=scores,\n",
    "        )\n",
    "        model_results.auc = auc\n",
    "        \n",
    "        avp = plot_prec_recall_curve(\n",
    "            labels=labels,\n",
    "            scores=scores,\n",
    "        )\n",
    "        model_results.avp = avp\n",
    "        \n",
    "    return model_results\n",
    "\n",
    "print('Train:')\n",
    "evaluate_model(\n",
    "    model=nb_cv,\n",
    "    texts=dataset.train_texts, \n",
    "    labels=dataset.train_labels,\n",
    ")\n",
    "print('Valid:')\n",
    "_ = evaluate_model(\n",
    "    model=nb_cv,\n",
    "    texts=dataset.valid_texts, \n",
    "    labels=dataset.valid_labels,\n",
    ")"
   ]
  },
  {
   "cell_type": "markdown",
   "metadata": {},
   "source": [
    "As we may see - even Naive Bayes model works really good for this task. Now - let us have a look at features used by the model:"
   ]
  },
  {
   "cell_type": "code",
   "execution_count": 8,
   "metadata": {},
   "outputs": [
    {
     "name": "stdout",
     "output_type": "stream",
     "text": [
      "Word: ration, Kanye log proba: -8.090096, Kantye log proba: -2.888421\n",
      "Word: limit, Kanye log proba: -8.090096, Kantye log proba: -3.519225\n",
      "Word: reason, Kanye log proba: -8.090096, Kantye log proba: -2.888421\n",
      "Word: man, Kanye log proba: -8.090096, Kantye log proba: -2.631921\n",
      "Word: judgement, Kanye log proba: -8.090096, Kantye log proba: -3.320554\n",
      "Word: empir, Kanye log proba: -8.090096, Kantye log proba: -3.414964\n",
      "Word: #, Kanye log proba: -8.090096, Kantye log proba: -2.831587\n",
      "Word: feel, Kanye log proba: -2.891599, Kantye log proba: -8.030084\n",
      "Word: pure, Kanye log proba: -8.090096, Kantye log proba: -3.519225\n",
      "Word: transcendent, Kanye log proba: -8.090096, Kantye log proba: -3.081324\n",
      "Word: ;, Kanye log proba: -8.090096, Kantye log proba: -3.234294\n",
      "Word: ', Kanye log proba: -8.090096, Kantye log proba: -2.504631\n",
      "Word: club, Kanye log proba: -8.090096, Kantye log proba: -3.414964\n",
      "Word: moral, Kanye log proba: -8.090096, Kantye log proba: -2.678226\n",
      "Word: metaphys, Kanye log proba: -8.090096, Kantye log proba: -3.234294\n",
      "Word: !, Kanye log proba: -8.090096, Kantye log proba: -2.504631\n",
      "Word: kim, Kanye log proba: -8.090096, Kantye log proba: -3.320554\n",
      "Word: yo, Kanye log proba: -8.090096, Kantye log proba: -3.234294\n",
      "Word: did, Kanye log proba: -8.090096, Kantye log proba: -3.414964\n",
      "Word: ai, Kanye log proba: -8.090096, Kantye log proba: -3.154887\n"
     ]
    }
   ],
   "source": [
    "import numpy as np\n",
    "\n",
    "\n",
    "def visualize_naive_bayes_features(nb_pipeline_, nb_of_features):\n",
    "    nb = nb_cv.best_estimator_.steps[2][1]\n",
    "    vectorizer = nb_cv.best_estimator_.steps[1][1]\n",
    "    kw_log_probs, ktw_log_probs = nb.feature_log_prob_\n",
    "    best_features_indices = np.abs(\n",
    "        kw_log_probs - ktw_log_probs,\n",
    "    ).argsort()[-nb_of_features:]\n",
    "    best_keys_and_log_probs_ = [\n",
    "        (key, kw_log_probs[value], ktw_log_probs[value])\n",
    "        for key, value in vectorizer.vocabulary_.items() \n",
    "        if value in best_features_indices\n",
    "    ]\n",
    "    for key, kw_log_prob, ktw_log_prob in best_keys_and_log_probs_:\n",
    "        print('Word: %s, Kanye log proba: %f, Kantye log proba: %f' % \n",
    "             (key, kw_log_prob, ktw_log_prob))\n",
    "\n",
    "visualize_naive_bayes_features(nb_pipeline, 20)"
   ]
  },
  {
   "cell_type": "markdown",
   "metadata": {},
   "source": [
    "As we may see - model have learnt that terms connected to Kantian philosophy are important. We may also see that Kantye uses punctuation way more often.\n",
    "\n",
    "Now - let us try Logistic Regression model:"
   ]
  },
  {
   "cell_type": "code",
   "execution_count": 9,
   "metadata": {},
   "outputs": [
    {
     "name": "stderr",
     "output_type": "stream",
     "text": [
      "/usr/local/lib/python3.6/site-packages/sklearn/linear_model/logistic.py:433: FutureWarning: Default solver will be changed to 'lbfgs' in 0.22. Specify a solver to silence this warning.\n",
      "  FutureWarning)\n"
     ]
    },
    {
     "data": {
      "text/plain": [
       "GridSearchCV(cv=5, error_score='raise-deprecating',\n",
       "       estimator=Pipeline(memory=None,\n",
       "     steps=(('preprocessor', TwitterPreprocessor(check_if_only_single_word=True, replace_mentions=True,\n",
       "          replace_urls=True, specific_stems=None)), ('vectorizer', CountVectorizer(analyzer='word', binary=False, decode_error='strict',\n",
       "        dtype=<class 'numpy.int64'>, encoding='utf-8', input='co..., penalty='l2', random_state=42, solver='warn',\n",
       "          tol=0.0001, verbose=0, warm_start=False)))),\n",
       "       fit_params=None, iid='warn', n_jobs=None,\n",
       "       param_grid={'lr_model__C': [0.1, 1, 10], 'preprocessor__check_if_only_single_word': [True, False], 'preprocessor__replace_urls': [True, False], 'preprocessor__replace_mentions': [True, False], 'preprocessor__specific_stems': [None, []]},\n",
       "       pre_dispatch='2*n_jobs', refit=True, return_train_score='warn',\n",
       "       scoring='accuracy', verbose=0)"
      ]
     },
     "execution_count": 9,
     "metadata": {},
     "output_type": "execute_result"
    }
   ],
   "source": [
    "from sklearn import linear_model\n",
    "from sklearn import preprocessing\n",
    "\n",
    "lr_pipeline = pipeline.Pipeline(\n",
    "    steps=(\n",
    "        ('preprocessor', TwitterPreprocessor()),\n",
    "        ('vectorizer', sktext.CountVectorizer(\n",
    "                tokenizer=TwitterTokenizer(),\n",
    "            )\n",
    "        ),\n",
    "        ('lr_model', linear_model.LogisticRegression(random_state=RANDOM_SEED))\n",
    "    )\n",
    ")\n",
    "\n",
    "lr_parameters = {\n",
    "    'lr_model__C': [0.1, 1, 10],\n",
    "    **default_preprocessor_parameters,\n",
    "}\n",
    "\n",
    "\n",
    "lr_cv = model_selection.GridSearchCV(\n",
    "    lr_pipeline, \n",
    "    lr_parameters, \n",
    "    cv=NB_OF_FOLDS,\n",
    "    scoring='accuracy',\n",
    ")\n",
    "lr_cv.fit(dataset.train_texts, dataset.train_labels)   "
   ]
  },
  {
   "cell_type": "markdown",
   "metadata": {},
   "source": [
    ".. and evaluate it:"
   ]
  },
  {
   "cell_type": "code",
   "execution_count": 10,
   "metadata": {},
   "outputs": [
    {
     "name": "stdout",
     "output_type": "stream",
     "text": [
      "Train:\n",
      "Accuracy is 1.000000\n",
      "Precision is 1.000000\n",
      "Recall is 1.000000\n"
     ]
    },
    {
     "data": {
      "image/png": "[encoded data removed]",
      "text/plain": [
       "<Figure size 432x288 with 1 Axes>"
      ]
     },
     "metadata": {
      "needs_background": "light"
     },
     "output_type": "display_data"
    },
    {
     "data": {
      "image/png": "[encoded data removed]",
      "text/plain": [
       "<Figure size 432x288 with 1 Axes>"
      ]
     },
     "metadata": {
      "needs_background": "light"
     },
     "output_type": "display_data"
    },
    {
     "name": "stdout",
     "output_type": "stream",
     "text": [
      "Valid:\n",
      "Accuracy is 0.946970\n",
      "Precision is 0.946188\n",
      "Recall is 0.929515\n"
     ]
    },
    {
     "data": {
      "image/png": "[encoded data removed]",
      "text/plain": [
       "<Figure size 432x288 with 1 Axes>"
      ]
     },
     "metadata": {
      "needs_background": "light"
     },
     "output_type": "display_data"
    },
    {
     "data": {
      "image/png": "[encoded data removed]",
      "text/plain": [
       "<Figure size 432x288 with 1 Axes>"
      ]
     },
     "metadata": {
      "needs_background": "light"
     },
     "output_type": "display_data"
    },
    {
     "data": {
      "text/plain": [
       "<__main__.ModelResults at 0x7f2f8c504e80>"
      ]
     },
     "execution_count": 10,
     "metadata": {},
     "output_type": "execute_result"
    }
   ],
   "source": [
    "print('Train:')\n",
    "evaluate_model(\n",
    "    model=lr_cv,\n",
    "    texts=dataset.train_texts, \n",
    "    labels=dataset.train_labels,\n",
    ")\n",
    "print('Valid:')\n",
    "evaluate_model(\n",
    "    model=lr_cv,\n",
    "    texts=dataset.valid_texts, \n",
    "    labels=dataset.valid_labels,\n",
    ")"
   ]
  },
  {
   "cell_type": "markdown",
   "metadata": {},
   "source": [
    "As we may see - Logistic Regression model has better accuracy but slightly worse Average Precision.\n",
    "\n",
    "Now let us try decision trees:"
   ]
  },
  {
   "cell_type": "code",
   "execution_count": 11,
   "metadata": {},
   "outputs": [
    {
     "data": {
      "text/plain": [
       "GridSearchCV(cv=5, error_score='raise-deprecating',\n",
       "       estimator=Pipeline(memory=None,\n",
       "     steps=(('preprocessor', TwitterPreprocessor(check_if_only_single_word=True, replace_mentions=True,\n",
       "          replace_urls=True, specific_stems=None)), ('vectorizer', CountVectorizer(analyzer='word', binary=False, decode_error='strict',\n",
       "        dtype=<class 'numpy.int64'>, encoding='utf-8', input='co...      min_weight_fraction_leaf=0.0, presort=False, random_state=None,\n",
       "            splitter='best')))),\n",
       "       fit_params=None, iid='warn', n_jobs=None,\n",
       "       param_grid={'dt_model__max_depth': [25, 50, 100], 'preprocessor__check_if_only_single_word': [True, False], 'preprocessor__replace_urls': [True, False], 'preprocessor__replace_mentions': [True, False], 'preprocessor__specific_stems': [None, []]},\n",
       "       pre_dispatch='2*n_jobs', refit=True, return_train_score='warn',\n",
       "       scoring='accuracy', verbose=0)"
      ]
     },
     "execution_count": 11,
     "metadata": {},
     "output_type": "execute_result"
    }
   ],
   "source": [
    "from sklearn import tree\n",
    "\n",
    "\n",
    "dt_pipeline = pipeline.Pipeline(\n",
    "    steps=(\n",
    "        ('preprocessor', TwitterPreprocessor()),\n",
    "        ('vectorizer', sktext.CountVectorizer(\n",
    "                tokenizer=TwitterTokenizer(),\n",
    "            )\n",
    "        ),\n",
    "        ('dt_model', tree.DecisionTreeClassifier())\n",
    "    )\n",
    ")\n",
    "\n",
    "dt_parameters = {\n",
    "    'dt_model__max_depth': [25, 50, 100],\n",
    "    **default_preprocessor_parameters,\n",
    "}\n",
    "\n",
    "\n",
    "dt_cv = model_selection.GridSearchCV(\n",
    "    dt_pipeline, \n",
    "    dt_parameters, \n",
    "    cv=NB_OF_FOLDS,\n",
    "    scoring='accuracy',\n",
    ")\n",
    "dt_cv.fit(dataset.train_texts, dataset.train_labels) "
   ]
  },
  {
   "cell_type": "code",
   "execution_count": 12,
   "metadata": {},
   "outputs": [
    {
     "name": "stdout",
     "output_type": "stream",
     "text": [
      "Train:\n",
      "Accuracy is 1.000000\n",
      "Precision is 1.000000\n",
      "Recall is 1.000000\n",
      "Valid:\n",
      "Accuracy is 0.928030\n",
      "Precision is 0.923767\n",
      "Recall is 0.907489\n"
     ]
    }
   ],
   "source": [
    "print('Train:')\n",
    "evaluate_model(\n",
    "    model=dt_cv,\n",
    "    texts=dataset.train_texts, \n",
    "    labels=dataset.train_labels,\n",
    "    plot_auc_avp=False,\n",
    ")\n",
    "print('Valid:')\n",
    "_ = evaluate_model(\n",
    "    model=dt_cv,\n",
    "    texts=dataset.valid_texts, \n",
    "    labels=dataset.valid_labels,\n",
    "    plot_auc_avp=False,\n",
    ")"
   ]
  },
  {
   "cell_type": "markdown",
   "metadata": {},
   "source": [
    "In this case - I have not plotted precision recall and ROC curves as trees offer only prediction. As we may see - results are better than Naive Bayes but worse than logistic regression."
   ]
  },
  {
   "cell_type": "code",
   "execution_count": 13,
   "metadata": {},
   "outputs": [
    {
     "name": "stderr",
     "output_type": "stream",
     "text": [
      "/usr/local/lib/python3.6/site-packages/sklearn/model_selection/_search.py:841: DeprecationWarning: The default of the `iid` parameter will change from True to False in version 0.22 and will be removed in 0.24. This will change numeric results when test-set sizes are unequal.\n",
      "  DeprecationWarning)\n"
     ]
    },
    {
     "data": {
      "text/plain": [
       "GridSearchCV(cv=5, error_score='raise-deprecating',\n",
       "       estimator=Pipeline(memory=None,\n",
       "     steps=(('preprocessor', TwitterPreprocessor(check_if_only_single_word=True, replace_mentions=True,\n",
       "          replace_urls=True, specific_stems=None)), ('vectorizer', CountVectorizer(analyzer='word', binary=False, decode_error='strict',\n",
       "        dtype=<class 'numpy.int64'>, encoding='utf-8', input='co...obs=None,\n",
       "            oob_score=False, random_state=None, verbose=0,\n",
       "            warm_start=False)))),\n",
       "       fit_params=None, iid='warn', n_jobs=None,\n",
       "       param_grid={'rf_model__n_estimators': [5, 10, 20, 50], 'rf_model__max_depth': [5, 10, 20], 'preprocessor__check_if_only_single_word': [True, False], 'preprocessor__replace_urls': [True, False], 'preprocessor__replace_mentions': [True, False], 'preprocessor__specific_stems': [None, []]},\n",
       "       pre_dispatch='2*n_jobs', refit=True, return_train_score='warn',\n",
       "       scoring='accuracy', verbose=0)"
      ]
     },
     "execution_count": 13,
     "metadata": {},
     "output_type": "execute_result"
    }
   ],
   "source": [
    "from sklearn import ensemble \n",
    "\n",
    "\n",
    "rf_pipeline = pipeline.Pipeline(\n",
    "    steps=(\n",
    "        ('preprocessor', TwitterPreprocessor()),\n",
    "        ('vectorizer', sktext.CountVectorizer(\n",
    "                tokenizer=TwitterTokenizer(),\n",
    "            )\n",
    "        ),\n",
    "        ('rf_model', ensemble.RandomForestClassifier())\n",
    "    )\n",
    ")\n",
    "\n",
    "rf_parameters = {\n",
    "    'rf_model__n_estimators': [5, 10, 20, 50],\n",
    "    'rf_model__max_depth': [5, 10, 20],\n",
    "    **default_preprocessor_parameters,\n",
    "}\n",
    "\n",
    "\n",
    "rf_cv = model_selection.GridSearchCV(\n",
    "    rf_pipeline, \n",
    "    rf_parameters, \n",
    "    cv=NB_OF_FOLDS,\n",
    "    scoring='accuracy',\n",
    ")\n",
    "rf_cv.fit(dataset.train_texts, dataset.train_labels) "
   ]
  },
  {
   "cell_type": "code",
   "execution_count": 14,
   "metadata": {},
   "outputs": [
    {
     "name": "stdout",
     "output_type": "stream",
     "text": [
      "Train:\n",
      "Accuracy is 0.985782\n",
      "Precision is 0.970684\n",
      "Recall is 1.000000\n"
     ]
    },
    {
     "data": {
      "image/png": "[encoded data removed]",
      "text/plain": [
       "<Figure size 432x288 with 1 Axes>"
      ]
     },
     "metadata": {
      "needs_background": "light"
     },
     "output_type": "display_data"
    },
    {
     "data": {
      "image/png": "[encoded data removed]",
      "text/plain": [
       "<Figure size 432x288 with 1 Axes>"
      ]
     },
     "metadata": {
      "needs_background": "light"
     },
     "output_type": "display_data"
    },
    {
     "name": "stdout",
     "output_type": "stream",
     "text": [
      "Valid:\n",
      "Accuracy is 0.929924\n",
      "Precision is 0.905830\n",
      "Recall is 0.926606\n"
     ]
    },
    {
     "data": {
      "image/png": "[encoded data removed]",
      "text/plain": [
       "<Figure size 432x288 with 1 Axes>"
      ]
     },
     "metadata": {
      "needs_background": "light"
     },
     "output_type": "display_data"
    },
    {
     "data": {
      "image/png": "[encoded data removed]",
      "text/plain": [
       "<Figure size 432x288 with 1 Axes>"
      ]
     },
     "metadata": {
      "needs_background": "light"
     },
     "output_type": "display_data"
    }
   ],
   "source": [
    "print('Train:')\n",
    "evaluate_model(\n",
    "    model=rf_cv,\n",
    "    texts=dataset.train_texts, \n",
    "    labels=dataset.train_labels,\n",
    ")\n",
    "print('Valid:')\n",
    "_ = evaluate_model(\n",
    "    model=rf_cv,\n",
    "    texts=dataset.valid_texts, \n",
    "    labels=dataset.valid_labels,\n",
    ")"
   ]
  },
  {
   "cell_type": "markdown",
   "metadata": {},
   "source": [
    "Once again - random forrest is worse than logistic regression.\n",
    "\n",
    "As we may see - the logistic regression provides the best results on validation set. Let us analyze errors of this model:"
   ]
  },
  {
   "cell_type": "code",
   "execution_count": 15,
   "metadata": {},
   "outputs": [
    {
     "name": "stdout",
     "output_type": "stream",
     "text": [
      "True label: 1, Score: 0.214723, Text: If they hate then let them hate and watch a flawed sense of moral duty pile up.\n",
      "True label: 0, Score: 0.998629, Text: I am currently the single highest paid person in footwear. That means I make more money on shoes than Michael Jordan.\n",
      "True label: 0, Score: 0.523432, Text: it's not where you take things from.  It's where you take them to\n",
      "True label: 0, Score: 0.896705, Text: that's the last tweet of the day. I did that one for my god-brother Puff.  Now ima go watch the Cavs.\n",
      "True label: 1, Score: 0.207961, Text: 10 years later I'm still the same kid from Chicago. Still dreamin out loud. Still banging on the door. Still toppling man-made falsehoods\n",
      "True label: 0, Score: 0.502191, Text: yes I got rid of my last lawyer why? Because he wouldn't come to work full time. I also asked my last manager to co… https://t.co/cf3z7aEmXa\n",
      "True label: 1, Score: 0.193878, Text: Looks like I need to up my game. https://t.co/G7z3d7MJ7V\n",
      "True label: 1, Score: 0.035330, Text: And should not make himself into a worm and complain when he is trodden on  https://t.co/5EKxmi53X3\n",
      "True label: 0, Score: 0.762134, Text: the beauty is in the imperfection(s)\n",
      "True label: 0, Score: 0.996499, Text: never a master. Always a student.\n",
      "True label: 1, Score: 0.237736, Text: To be is to beast\n",
      "True label: 0, Score: 0.808716, Text: RT @alialexanderorg: .@Ali warned conservatives and republicans: let @KanyeWest be #KanyeWest. https://t.co/fVxOa6PpuJ\n",
      "True label: 0, Score: 0.687286, Text: Trav we gotta drop the track with me you and Uzi this week bro. Let's gooooooooooooooooooooooooo🔥🔥🔥🔥🔥🔥🔥🔥🔥🔥🔥🔥🔥🔥🔥🔥🔥🔥\n",
      "True label: 0, Score: 0.808716, Text: RT @alialexanderorg: .@Ali warned conservatives and republicans: let @KanyeWest be #KanyeWest. https://t.co/fVxOa6PpuJ\n",
      "True label: 1, Score: 0.035330, Text: And should not make himself into a worm and complain when he is trodden on  https://t.co/5EKxmi53X3\n",
      "True label: 1, Score: 0.422862, Text: Who said it best? https://t.co/v61SXVPZ2U\n",
      "True label: 1, Score: 0.476225, Text: I apologize for @kanyewest   I have clearly inspired him to challenge the bounds of his own reality\n",
      "True label: 0, Score: 0.997238, Text: if you wanna see the true character of person watch the way they treat someone who can't do anything for them.\n",
      "True label: 1, Score: 0.237736, Text: To be is to beast\n",
      "True label: 0, Score: 0.567950, Text: I don't believe in the concept of an enemy. We have been conditioned to always be in competition. Stop looking for… https://t.co/rsJxZGEMfQ\n",
      "True label: 1, Score: 0.193878, Text: Looks like I need to up my game. https://t.co/G7z3d7MJ7V\n",
      "True label: 0, Score: 0.758101, Text: Donald Glover is a free thinker\n",
      "True label: 1, Score: 0.422862, Text: Who said it best? https://t.co/v61SXVPZ2U\n",
      "True label: 0, Score: 0.529438, Text: we have freedom of speech but not freedom of thought\n",
      "True label: 0, Score: 0.950194, Text: Cars have four wheels. Hoodies have hoods. It's amusing to me when some one says this is an original hoodie. Bro... it's a hoodie 🤷‍♂️\n",
      "True label: 0, Score: 0.896705, Text: that's the last tweet of the day. I did that one for my god-brother Puff.  Now ima go watch the Cavs.\n",
      "True label: 0, Score: 0.999826, Text: the Charlamagne interview just got an offer on 10 million. Yo @cthagod should we hold off for a hundred million???… https://t.co/i7XnvJezjB\n",
      "True label: 1, Score: 0.476225, Text: I apologize for @kanyewest   I have clearly inspired him to challenge the bounds of his own reality\n"
     ]
    }
   ],
   "source": [
    "lr_predictions = lr_cv.predict(dataset.valid_texts)\n",
    "wrongly_predicted = np.array(dataset.valid_labels) != lr_predictions\n",
    "scores = lr_cv.predict_proba(dataset.valid_texts)[:, 1]\n",
    "\n",
    "\n",
    "for text, true_label, score, wrongly_predicted_flag in zip(\n",
    "    dataset.valid_texts,\n",
    "    dataset.valid_labels,\n",
    "    scores,\n",
    "    wrongly_predicted): \n",
    "    if not wrongly_predicted_flag:\n",
    "        continue\n",
    "    print('True label: %d, Score: %f, Text: %s' % (true_label, score, text))"
   ]
  },
  {
   "cell_type": "markdown",
   "metadata": {},
   "source": [
    "As we may see some of thess examples are really tricky. E.g.:\n",
    "\n",
    "- Donald Glover is a free thinker\n",
    "- it's not where you take things from.  It's where you take them to\n",
    "- the beauty is in the imperfection(s)\n",
    "- we have freedom of speech but not freedom of thought\n",
    "- 10 years later I'm still the same kid from Chicago. Still dreamin out loud. Still banging on the door. Still toppling man-made falsehoods\n",
    "\n",
    "Some need a model which truely understand the subtelty of philosophy like:\n",
    "\n",
    "- To be is to beast\n",
    "\n",
    "Obviously - some seems to be easy, like:\n",
    "\n",
    "- I am currently the single highest paid person in footwear. That means I make more money on shoes than Michael Jordan."
   ]
  },
  {
   "cell_type": "markdown",
   "metadata": {},
   "source": [
    "We can also look up the weights of the model to check whether it captured appropriate paterns:"
   ]
  },
  {
   "cell_type": "code",
   "execution_count": 16,
   "metadata": {},
   "outputs": [
    {
     "name": "stdout",
     "output_type": "stream",
     "text": [
      "Word: ration, weight: 1.849667.\n",
      "Word: url_token, weight: -2.914423.\n",
      "Word: ,, weight: 2.892944.\n",
      "Word: man, weight: 1.718940.\n",
      "Word: ?, weight: 3.408707.\n",
      "Word: free, weight: -1.754670.\n",
      "Word: philo_token, weight: 2.887961.\n",
      "Word: #, weight: 2.359834.\n",
      "Word: @, weight: 2.158237.\n",
      "Word: love, weight: -2.992656.\n",
      "Word: look, weight: 1.863706.\n",
      "Word: fear, weight: -1.817813.\n",
      "Word: peopl, weight: -1.813266.\n",
      "Word: !, weight: 1.741406.\n",
      "Word: content, weight: 2.330850.\n",
      "Word: cogito, weight: 1.709730.\n",
      "Word: coco, weight: 1.709730.\n",
      "Word: kantye2020, weight: 1.871594.\n",
      "Word: 🤯, weight: 5.141270.\n",
      "Word: bieber, weight: 2.346803.\n"
     ]
    }
   ],
   "source": [
    "def visualize_logistic_regression_features(lr_cv_, nb_of_features):\n",
    "    lr = lr_cv_.best_estimator_.steps[2][1]\n",
    "    vectorizer = lr_cv_.best_estimator_.steps[1][1]\n",
    "    weights = lr.coef_.flatten()\n",
    "    best_features_indices = np.abs(\n",
    "        weights,\n",
    "    ).argsort()[-nb_of_features:]\n",
    "    best_keys_and_weights = [\n",
    "        (key, weights[value])\n",
    "        for key, value in vectorizer.vocabulary_.items() \n",
    "        if value in best_features_indices\n",
    "    ]\n",
    "    for key, weight in best_keys_and_weights:\n",
    "        print('Word: %s, weight: %f.' % (key, weight))\n",
    "    \n",
    "\n",
    "visualize_logistic_regression_features(lr_cv_=lr_cv, nb_of_features=20)"
   ]
  },
  {
   "cell_type": "markdown",
   "metadata": {},
   "source": [
    "As we may see - features seem to be reasonable. It is good to see that additional tokens provided by custom preprocessors and tokenizers like `url_token` or `philo_token` were placed among features with the greatest weights."
   ]
  },
  {
   "cell_type": "markdown",
   "metadata": {},
   "source": [
    "Now - let us have a look if our model does not suffer from overconfidence:"
   ]
  },
  {
   "cell_type": "code",
   "execution_count": 17,
   "metadata": {},
   "outputs": [
    {
     "data": {
      "image/png": "[encoded data removed]",
      "text/plain": [
       "<Figure size 432x288 with 2 Axes>"
      ]
     },
     "metadata": {
      "needs_background": "light"
     },
     "output_type": "display_data"
    }
   ],
   "source": [
    "from sklearn import calibration\n",
    "\n",
    "\n",
    "def plot_calibration_curve(model, texts, labels, bins=10):\n",
    "    scores = model.predict_proba(texts)[:, 1]\n",
    "    prob_true, prob_pred = calibration.calibration_curve(\n",
    "        y_true=labels,\n",
    "        y_prob=scores,\n",
    "        n_bins=bins,\n",
    "    )\n",
    "    fig, ax1 = plt.subplots()\n",
    "\n",
    "    color = 'tab:red'\n",
    "    ax1.set_xlabel('Probability predicted')\n",
    "    ax1.set_ylabel('True probability', color=color)\n",
    "    ax1.plot(prob_pred, prob_true, color=color)\n",
    "    ax1.tick_params(axis='y', labelcolor=color)\n",
    "    ax1.plot([0, 1], [0, 1])\n",
    "\n",
    "    ax2 = ax1.twinx()\n",
    "\n",
    "    color = 'tab:blue'\n",
    "    ax2.set_ylabel('Histogram', color=color)\n",
    "    ax2.hist(scores, bins=bins, color='g', alpha=0.1)\n",
    "    ax2.tick_params(axis='y', labelcolor=color)\n",
    "\n",
    "    fig.tight_layout()\n",
    "    plt.show()\n",
    "    \n",
    "\n",
    "plot_calibration_curve(lr_cv, dataset.valid_texts, dataset.valid_labels)"
   ]
  },
  {
   "cell_type": "markdown",
   "metadata": {},
   "source": [
    "As we may see - linear regression model is fairly callibrated (not suprisingly) - especially for cases where score are close to $0$ or $1$. For score between $(0.2, 0.8)$ scores suffer from slight miscalibration but only few cases fall into this region."
   ]
  },
  {
   "cell_type": "markdown",
   "metadata": {},
   "source": [
    "Now - we can test our model on a final hold-out set:"
   ]
  },
  {
   "cell_type": "code",
   "execution_count": 18,
   "metadata": {},
   "outputs": [
    {
     "name": "stdout",
     "output_type": "stream",
     "text": [
      "Test:\n",
      "Accuracy is 1.000000\n",
      "Precision is 1.000000\n",
      "Recall is 1.000000\n"
     ]
    },
    {
     "data": {
      "image/png": "[encoded data removed]",
      "text/plain": [
       "<Figure size 432x288 with 1 Axes>"
      ]
     },
     "metadata": {
      "needs_background": "light"
     },
     "output_type": "display_data"
    },
    {
     "data": {
      "image/png": "[encoded data removed]",
      "text/plain": [
       "<Figure size 432x288 with 1 Axes>"
      ]
     },
     "metadata": {
      "needs_background": "light"
     },
     "output_type": "display_data"
    },
    {
     "data": {
      "text/plain": [
       "<__main__.ModelResults at 0x7f2f8c4cff28>"
      ]
     },
     "execution_count": 18,
     "metadata": {},
     "output_type": "execute_result"
    }
   ],
   "source": [
    "print('Test:')\n",
    "evaluate_model(\n",
    "    model=lr_cv,\n",
    "    texts=dataset.test_texts, \n",
    "    labels=dataset.test_labels,\n",
    ")"
   ]
  },
  {
   "cell_type": "markdown",
   "metadata": {},
   "source": [
    "As we may see - a classical Logistic Regression with a task specific preprocessing achieved 100% accuracy on the test set. "
   ]
  },
  {
   "cell_type": "markdown",
   "metadata": {},
   "source": [
    "### Final remarks:\n",
    "\n",
    "1. I have decided not to use _deep learning_ algorithms. It is mostly due to the fact that:\n",
    "    - task is pretty subtle - from my experience, _deep learning_ might overfit in this case,\n",
    "    - for a text classification it is rare (although I have experienced such phenomenon) for _deep learning_ to be better than classical model by a substantial matter,\n",
    "    - I found understandability of a model important and go with _deep learning_ algorithms only when they can provide a substantial improvement.\n",
    "\n",
    "2. Although the model achieved a perfect accuracy on a test set - I would mention that it had imperfect classification during a training process. 100% might come from _sampling bias_.\n"
   ]
  },
  {
   "cell_type": "markdown",
   "metadata": {},
   "source": [
    "### Summary of what I have done:\n",
    "\n",
    "1. I fixed the `RANDOM_SEED`, splitted dataset and manually reviewed the test set in order to find interesting patterns and understand the data. From this I got insights like e.g. philosophical terms, philosopher occurences, URLs, etc.\n",
    "2. I prepared and implemented all classes and models needed for performing prediction.\n",
    "3. I chose the model with the best accuracy and analyzed its errors and overconfidence.\n",
    "4. I inspected the model parameters to gain interesting insights.\n",
    "\n",
    "### Further steps:\n",
    "\n",
    "One can try to improve models by:\n",
    "- adding more _Kantye specific_ words,\n",
    "- using other kinds of Tokenizers (e.g. tf-idf),\n",
    "- getting more data :)\n",
    "\n",
    "### Extensions:\n",
    "\n",
    "In case of training models to classify Kanye / Kantye / Rest I would use a publicly available dataset of tweets and add it to our training data as `No-Kanye-Kantye` class. Although there is a possibility that within this dataset there will be twitts of either Kanye or Kantye - but one can tackle that using a technique called [positive unlabelled learning](https://arxiv.org/pdf/1608.06807.pdf)."
   ]
  },
  {
   "cell_type": "code",
   "execution_count": null,
   "metadata": {},
   "outputs": [],
   "source": []
  }
 ],
 "metadata": {
  "kernelspec": {
   "display_name": "Python 3",
   "language": "python",
   "name": "python3"
  },
  "language_info": {
   "codemirror_mode": {
    "name": "ipython",
    "version": 3
   },
   "file_extension": ".py",
   "mimetype": "text/x-python",
   "name": "python",
   "nbconvert_exporter": "python",
   "pygments_lexer": "ipython3",
   "version": "3.6.8"
  }
 },
 "nbformat": 4,
 "nbformat_minor": 2
}
